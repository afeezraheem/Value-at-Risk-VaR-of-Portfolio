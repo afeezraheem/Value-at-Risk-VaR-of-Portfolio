{
 "cells": [
  {
   "cell_type": "code",
   "execution_count": 2,
   "metadata": {},
   "outputs": [],
   "source": [
    "#Value at Risk,VaR, is a risk management technique to calculate the maximum loss an investment portfolio is likely to face in a specified time frame with a certain degree of confidence. \n",
    
    "#It is a commonly calculated metric used within a suite of financial metrics and models to help aid investment decisions.\n",
    "\n",
    "# Using the Variance-Covariance Method,I have calculated VaR for a portfolio of equities,using historical stock prices from Yahoo!Finance\n",
    "\n",
    "#The steps I undertook are as below\n",
    "\n",
    "\n",
    "# Import the libraries:Panda (reading data, manipulation, analysis), numpy(for mathematical array operations)\n",
    "\n",
    "import pandas as pd\n",
    "import numpy as np\n"
   ]
  },
  {
   "cell_type": "code",
   "execution_count": 3,
   "metadata": {},
   "outputs": [],
   "source": [
    "# To retrieve stock prices from Yahoo Finance, I decided to download more libraries\n",
    "# I installed all the needed libraries, such as panda datareaders,datetime and Yahoo finance \n",
    "# Since they decommissioned their historical data API, Panda data reader stopped working with Yahoo Finance data sets\n",
    "# Fix_yahoo_finance, the original library, which I had tried to install, was a mere fix.\n",
    "# However, for reasons of backward competability, yfinance was developed to download historical market data from Yahoo! Finance.\n",
    "# Hence, I pip-installed yfinance directly\n",
    "\n",
    "from pandas_datareader import data as pdr\n",
    "import yfinance as yf\n",
    "import datetime as dt\n"
   ]
  },
  {
   "cell_type": "code",
   "execution_count": 4,
   "metadata": {},
   "outputs": [],
   "source": [
    "# I created a sample portfolio of equities\n",
    "tickers = ['AAPL', 'FB', 'C', 'DIS']"
   ]
  },
  {
   "cell_type": "code",
   "execution_count": 5,
   "metadata": {},
   "outputs": [],
   "source": [
    "# I indicated an arbirary weight allocation to portfolio stocks\n",
    "weights = np.array([.25, .3, .15, .3])"
   ]
  },
  {
   "cell_type": "code",
   "execution_count": 6,
   "metadata": {},
   "outputs": [],
   "source": [
    "# I set the initial investment amount\n",
    "initial_investment = 2500000"
   ]
  },
  {
   "cell_type": "code",
   "execution_count": 8,
   "metadata": {},
   "outputs": [],
   "source": [
    "#Reading the closing prices prices from yahoo finance\n",
    "data = pdr.get_data_yahoo(tickers, start='2018-01-01', end = dt.date.today())['Close']"
   ]
  },
  {
   "cell_type": "code",
   "execution_count": 9,
   "metadata": {},
   "outputs": [],
   "source": [
    "# I decided to calculate the periodic returns per selected stocks\n",
    "returns= data.pct_change()"
   ]
  },
  {
   "cell_type": "code",
   "execution_count": 11,
   "metadata": {},
   "outputs": [
    {
     "data": {
      "text/html": [
       "<div>\n",
       "<style scoped>\n",
       "    .dataframe tbody tr th:only-of-type {\n",
       "        vertical-align: middle;\n",
       "    }\n",
       "\n",
       "    .dataframe tbody tr th {\n",
       "        vertical-align: top;\n",
       "    }\n",
       "\n",
       "    .dataframe thead th {\n",
       "        text-align: right;\n",
       "    }\n",
       "</style>\n",
       "<table border=\"1\" class=\"dataframe\">\n",
       "  <thead>\n",
       "    <tr style=\"text-align: right;\">\n",
       "      <th>Symbols</th>\n",
       "      <th>AAPL</th>\n",
       "      <th>FB</th>\n",
       "      <th>C</th>\n",
       "      <th>DIS</th>\n",
       "    </tr>\n",
       "    <tr>\n",
       "      <th>Date</th>\n",
       "      <th></th>\n",
       "      <th></th>\n",
       "      <th></th>\n",
       "      <th></th>\n",
       "    </tr>\n",
       "  </thead>\n",
       "  <tbody>\n",
       "    <tr>\n",
       "      <th>2018-01-02</th>\n",
       "      <td>NaN</td>\n",
       "      <td>NaN</td>\n",
       "      <td>NaN</td>\n",
       "      <td>NaN</td>\n",
       "    </tr>\n",
       "    <tr>\n",
       "      <th>2018-01-03</th>\n",
       "      <td>-0.000174</td>\n",
       "      <td>0.017914</td>\n",
       "      <td>0.003093</td>\n",
       "      <td>0.004293</td>\n",
       "    </tr>\n",
       "    <tr>\n",
       "      <th>2018-01-04</th>\n",
       "      <td>0.004645</td>\n",
       "      <td>-0.001841</td>\n",
       "      <td>0.012334</td>\n",
       "      <td>-0.000445</td>\n",
       "    </tr>\n",
       "    <tr>\n",
       "      <th>2018-01-05</th>\n",
       "      <td>0.011385</td>\n",
       "      <td>0.013671</td>\n",
       "      <td>-0.001324</td>\n",
       "      <td>-0.005435</td>\n",
       "    </tr>\n",
       "    <tr>\n",
       "      <th>2018-01-08</th>\n",
       "      <td>-0.003714</td>\n",
       "      <td>0.007653</td>\n",
       "      <td>-0.011670</td>\n",
       "      <td>-0.014334</td>\n",
       "    </tr>\n",
       "  </tbody>\n",
       "</table>\n",
       "</div>"
      ],
      "text/plain": [
       "Symbols         AAPL        FB         C       DIS\n",
       "Date                                              \n",
       "2018-01-02       NaN       NaN       NaN       NaN\n",
       "2018-01-03 -0.000174  0.017914  0.003093  0.004293\n",
       "2018-01-04  0.004645 -0.001841  0.012334 -0.000445\n",
       "2018-01-05  0.011385  0.013671 -0.001324 -0.005435\n",
       "2018-01-08 -0.003714  0.007653 -0.011670 -0.014334"
      ]
     },
     "execution_count": 11,
     "metadata": {},
     "output_type": "execute_result"
    }
   ],
   "source": [
    "returns.head()"
   ]
  },
  {
   "cell_type": "code",
   "execution_count": 12,
   "metadata": {},
   "outputs": [
    {
     "data": {
      "text/html": [
       "<div>\n",
       "<style scoped>\n",
       "    .dataframe tbody tr th:only-of-type {\n",
       "        vertical-align: middle;\n",
       "    }\n",
       "\n",
       "    .dataframe tbody tr th {\n",
       "        vertical-align: top;\n",
       "    }\n",
       "\n",
       "    .dataframe thead th {\n",
       "        text-align: right;\n",
       "    }\n",
       "</style>\n",
       "<table border=\"1\" class=\"dataframe\">\n",
       "  <thead>\n",
       "    <tr style=\"text-align: right;\">\n",
       "      <th>Symbols</th>\n",
       "      <th>AAPL</th>\n",
       "      <th>FB</th>\n",
       "      <th>C</th>\n",
       "      <th>DIS</th>\n",
       "    </tr>\n",
       "  </thead>\n",
       "  <tbody>\n",
       "    <tr>\n",
       "      <th>count</th>\n",
       "      <td>765.000000</td>\n",
       "      <td>765.000000</td>\n",
       "      <td>765.000000</td>\n",
       "      <td>765.000000</td>\n",
       "    </tr>\n",
       "    <tr>\n",
       "      <th>mean</th>\n",
       "      <td>0.001661</td>\n",
       "      <td>0.000716</td>\n",
       "      <td>0.000193</td>\n",
       "      <td>0.000776</td>\n",
       "    </tr>\n",
       "    <tr>\n",
       "      <th>std</th>\n",
       "      <td>0.022112</td>\n",
       "      <td>0.023918</td>\n",
       "      <td>0.027637</td>\n",
       "      <td>0.020941</td>\n",
       "    </tr>\n",
       "    <tr>\n",
       "      <th>min</th>\n",
       "      <td>-0.128647</td>\n",
       "      <td>-0.189609</td>\n",
       "      <td>-0.192986</td>\n",
       "      <td>-0.129846</td>\n",
       "    </tr>\n",
       "    <tr>\n",
       "      <th>25%</th>\n",
       "      <td>-0.007926</td>\n",
       "      <td>-0.010119</td>\n",
       "      <td>-0.010436</td>\n",
       "      <td>-0.007841</td>\n",
       "    </tr>\n",
       "    <tr>\n",
       "      <th>50%</th>\n",
       "      <td>0.001570</td>\n",
       "      <td>0.001352</td>\n",
       "      <td>0.000271</td>\n",
       "      <td>0.000343</td>\n",
       "    </tr>\n",
       "    <tr>\n",
       "      <th>75%</th>\n",
       "      <td>0.012217</td>\n",
       "      <td>0.012624</td>\n",
       "      <td>0.011129</td>\n",
       "      <td>0.009174</td>\n",
       "    </tr>\n",
       "    <tr>\n",
       "      <th>max</th>\n",
       "      <td>0.119808</td>\n",
       "      <td>0.108164</td>\n",
       "      <td>0.179843</td>\n",
       "      <td>0.144123</td>\n",
       "    </tr>\n",
       "  </tbody>\n",
       "</table>\n",
       "</div>"
      ],
      "text/plain": [
       "Symbols        AAPL          FB           C         DIS\n",
       "count    765.000000  765.000000  765.000000  765.000000\n",
       "mean       0.001661    0.000716    0.000193    0.000776\n",
       "std        0.022112    0.023918    0.027637    0.020941\n",
       "min       -0.128647   -0.189609   -0.192986   -0.129846\n",
       "25%       -0.007926   -0.010119   -0.010436   -0.007841\n",
       "50%        0.001570    0.001352    0.000271    0.000343\n",
       "75%        0.012217    0.012624    0.011129    0.009174\n",
       "max        0.119808    0.108164    0.179843    0.144123"
      ]
     },
     "execution_count": 12,
     "metadata": {},
     "output_type": "execute_result"
    }
   ],
   "source": [
    "# To explore some key statistics:\n",
    "\n",
    "returns.describe()"
   ]
  },
  {
   "cell_type": "code",
   "execution_count": 15,
   "metadata": {},
   "outputs": [
    {
     "data": {
      "text/html": [
       "<div>\n",
       "<style scoped>\n",
       "    .dataframe tbody tr th:only-of-type {\n",
       "        vertical-align: middle;\n",
       "    }\n",
       "\n",
       "    .dataframe tbody tr th {\n",
       "        vertical-align: top;\n",
       "    }\n",
       "\n",
       "    .dataframe thead th {\n",
       "        text-align: right;\n",
       "    }\n",
       "</style>\n",
       "<table border=\"1\" class=\"dataframe\">\n",
       "  <thead>\n",
       "    <tr style=\"text-align: right;\">\n",
       "      <th>Symbols</th>\n",
       "      <th>AAPL</th>\n",
       "      <th>FB</th>\n",
       "      <th>C</th>\n",
       "      <th>DIS</th>\n",
       "    </tr>\n",
       "    <tr>\n",
       "      <th>Symbols</th>\n",
       "      <th></th>\n",
       "      <th></th>\n",
       "      <th></th>\n",
       "      <th></th>\n",
       "    </tr>\n",
       "  </thead>\n",
       "  <tbody>\n",
       "    <tr>\n",
       "      <th>AAPL</th>\n",
       "      <td>0.000489</td>\n",
       "      <td>0.000329</td>\n",
       "      <td>0.000313</td>\n",
       "      <td>0.000222</td>\n",
       "    </tr>\n",
       "    <tr>\n",
       "      <th>FB</th>\n",
       "      <td>0.000329</td>\n",
       "      <td>0.000572</td>\n",
       "      <td>0.000276</td>\n",
       "      <td>0.000205</td>\n",
       "    </tr>\n",
       "    <tr>\n",
       "      <th>C</th>\n",
       "      <td>0.000313</td>\n",
       "      <td>0.000276</td>\n",
       "      <td>0.000764</td>\n",
       "      <td>0.000373</td>\n",
       "    </tr>\n",
       "    <tr>\n",
       "      <th>DIS</th>\n",
       "      <td>0.000222</td>\n",
       "      <td>0.000205</td>\n",
       "      <td>0.000373</td>\n",
       "      <td>0.000439</td>\n",
       "    </tr>\n",
       "  </tbody>\n",
       "</table>\n",
       "</div>"
      ],
      "text/plain": [
       "Symbols      AAPL        FB         C       DIS\n",
       "Symbols                                        \n",
       "AAPL     0.000489  0.000329  0.000313  0.000222\n",
       "FB       0.000329  0.000572  0.000276  0.000205\n",
       "C        0.000313  0.000276  0.000764  0.000373\n",
       "DIS      0.000222  0.000205  0.000373  0.000439"
      ]
     },
     "execution_count": 15,
     "metadata": {},
     "output_type": "execute_result"
    }
   ],
   "source": [
    "# A underlying assumption of VaR model is that stock market returns follow a normal distribution. \n",
    "# Stock returns are assumed to be a normal continuous random variable\n",
    "#I installed the Scipy.stat module to further explore the probability distribution of returns and other statistical functions\n",
    "# For this purpose, Norm, an object- which is an instance of the rv_continuous class, is adopted\n",
    "\n",
    "from scipy.stats import norm\n",
    "\n",
    "#I decided to calculate the var-covariance matrix using the returns calculated earlier;\n",
    "\n",
    "cov_matrix= returns.cov()\n",
    "\n",
    "cov_matrix"
   ]
  },
  {
   "cell_type": "code",
   "execution_count": 19,
   "metadata": {},
   "outputs": [
    {
     "data": {
      "text/plain": [
       "Symbols\n",
       "AAPL    0.001661\n",
       "FB      0.000716\n",
       "C       0.000193\n",
       "DIS     0.000776\n",
       "dtype: float64"
      ]
     },
     "execution_count": 19,
     "metadata": {},
     "output_type": "execute_result"
    }
   ],
   "source": [
    "# Calculating the mean returns for each stock\n",
    "\n",
    "average_returns= returns.mean()\n",
    "\n",
    "average_returns"
   ]
  },
  {
   "cell_type": "code",
   "execution_count": 22,
   "metadata": {},
   "outputs": [
    {
     "data": {
      "text/plain": [
       "0.0008915847695011031"
      ]
     },
     "execution_count": 22,
     "metadata": {},
     "output_type": "execute_result"
    }
   ],
   "source": [
    "#Overall portfolio average returns,using the dot product formular for the means against investment weights\n",
    "\n",
    "Portf_mean =average_returns. dot(weights)\n",
    "\n",
    "Portf_mean\n"
   ]
  },
  {
   "cell_type": "code",
   "execution_count": 36,
   "metadata": {},
   "outputs": [
    {
     "data": {
      "text/plain": [
       "0.0184"
      ]
     },
     "execution_count": 36,
     "metadata": {},
     "output_type": "execute_result"
    }
   ],
   "source": [
    "# Portfolio Standard Deviation is calculated using :\n",
    "\n",
    "Portf_stdev= round(np.sqrt(weights.T.dot(cov_matrix).dot(weights)),4)\n",
    "\n",
    "Portf_stdev"
   ]
  },
  {
   "cell_type": "code",
   "execution_count": 34,
   "metadata": {},
   "outputs": [
    {
     "data": {
      "text/plain": [
       "2502228.9619"
      ]
     },
     "execution_count": 34,
     "metadata": {},
     "output_type": "execute_result"
    }
   ],
   "source": [
    "#Calculating the mean value of the given investment\n",
    "\n",
    "Mean_investment = round((1+ Portf_mean)*initial_investment,4)\n",
    "\n",
    "Mean_investment"
   ]
  },
  {
   "cell_type": "code",
   "execution_count": 37,
   "metadata": {},
   "outputs": [
    {
     "data": {
      "text/plain": [
       "46000.0"
      ]
     },
     "execution_count": 37,
     "metadata": {},
     "output_type": "execute_result"
    }
   ],
   "source": [
    "# Standard deviation of the investment\n",
    "\n",
    "Stdev_investment = initial_investment* Portf_stdev\n",
    "\n",
    "Stdev_investment"
   ]
  },
  {
   "cell_type": "code",
   "execution_count": 38,
   "metadata": {},
   "outputs": [],
   "source": [
    "# I then proceed to choose the confidence interval of interest. say 95  per cent\n",
    "\n",
    "Conf_level1 = 0.05"
   ]
  },
  {
   "cell_type": "code",
   "execution_count": 40,
   "metadata": {},
   "outputs": [
    {
     "data": {
      "text/plain": [
       "2426565.695060232"
      ]
     },
     "execution_count": 40,
     "metadata": {},
     "output_type": "execute_result"
    }
   ],
   "source": [
    "# Using the Scipy percentage point function(ppf) method to generate values for the inverse cummulative density function \n",
    "#to a normal distribution, I plugged in the mean and stdev of the portfolio calculated earlier\n",
    "\n",
    "#It takes a percentage and returns a standard deviation multiplier for what value that percentage occurs at\n",
    "# For instance, norm.ppf(0.90, loc= 134, scale =3.45) will return a value(that functions as standard-deviation multiplier) marking\n",
    "# where 95% of data point would be contained if our data follows a normal distribution. \n",
    "\n",
    "Cutoff1 =norm.ppf(Conf_level1, Mean_investment, Stdev_investment)\n",
    "\n",
    "Cutoff1"
   ]
  },
  {
   "cell_type": "code",
   "execution_count": 44,
   "metadata": {},
   "outputs": [
    {
     "data": {
      "text/plain": [
       "73434.305"
      ]
     },
     "execution_count": 44,
     "metadata": {},
     "output_type": "execute_result"
    }
   ],
   "source": [
    "# Eventually, I am able to calculate the VaR at the confidence interval chosen. \n",
    "# Interpretation: By this result, we are saying that the loss in our portfolio will not exceed $73,000 over 1-day period @95 C.I\n",
    "\n",
    "VaR_1dl = round(initial_investment- Cutoff1,3)\n",
    "\n",
    "VaR_1dl"
   ]
  },
  {
   "cell_type": "code",
   "execution_count": 45,
   "metadata": {},
   "outputs": [
    {
     "name": "stdout",
     "output_type": "stream",
     "text": [
      "1 day VaR @ 95% Confidence: 73434.3\n",
      "2 day VaR @ 95% Confidence: 103851.79\n",
      "3 day VaR @ 95% Confidence: 127191.95\n",
      "4 day VaR @ 95% Confidence: 146868.61\n",
      "5 day VaR @ 95% Confidence: 164204.1\n",
      "6 day VaR @ 95% Confidence: 179876.58\n",
      "7 day VaR @ 95% Confidence: 194288.91\n",
      "8 day VaR @ 95% Confidence: 207703.58\n",
      "9 day VaR @ 95% Confidence: 220302.91\n",
      "10 day VaR @ 95% Confidence: 232219.66\n",
      "11 day VaR @ 95% Confidence: 243554.04\n",
      "12 day VaR @ 95% Confidence: 254383.89\n",
      "13 day VaR @ 95% Confidence: 264771.15\n",
      "14 day VaR @ 95% Confidence: 274766.01\n",
      "15 day VaR @ 95% Confidence: 284409.84\n",
      "16 day VaR @ 95% Confidence: 293737.22\n",
      "17 day VaR @ 95% Confidence: 302777.4\n",
      "18 day VaR @ 95% Confidence: 311555.37\n",
      "19 day VaR @ 95% Confidence: 320092.71\n",
      "20 day VaR @ 95% Confidence: 328408.2\n",
      "21 day VaR @ 95% Confidence: 336518.26\n",
      "22 day VaR @ 95% Confidence: 344437.42\n",
      "23 day VaR @ 95% Confidence: 352178.55\n",
      "24 day VaR @ 95% Confidence: 359753.15\n",
      "25 day VaR @ 95% Confidence: 367171.52\n",
      "26 day VaR @ 95% Confidence: 374442.95\n",
      "27 day VaR @ 95% Confidence: 381575.84\n",
      "28 day VaR @ 95% Confidence: 388577.82\n",
      "29 day VaR @ 95% Confidence: 395455.83\n",
      "30 day VaR @ 95% Confidence: 402216.25\n"
     ]
    }
   ],
   "source": [
    "# What if we decided to evaluate this over a bigger window of time? \n",
    "# In this case,we take 1-day VaR multiplied by square root of the select time period\n",
    "# That is, in order to calculate n-Day VaR\n",
    "# Observation:  As the the time window is expanded as below, the potential loss tends to increase. This seems logical\n",
    "\n",
    "num_days = 30\n",
    "\n",
    "for x in range(1, num_days+1):\n",
    "     \n",
    "     print(str(x) + \" day VaR @ 95% Confidence: \" + str(np.round(VaR_1dl * np.sqrt(x),2)))"
   ]
  }
 ],
 "metadata": {
  "kernelspec": {
   "display_name": "Python 3",
   "language": "python",
   "name": "python3"
  },
  "language_info": {
   "codemirror_mode": {
    "name": "ipython",
    "version": 3
   },
   "file_extension": ".py",
   "mimetype": "text/x-python",
   "name": "python",
   "nbconvert_exporter": "python",
   "pygments_lexer": "ipython3",
   "version": "3.8.3"
  }
 },
 "nbformat": 4,
 "nbformat_minor": 4
}
